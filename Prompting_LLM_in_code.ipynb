{
  "nbformat": 4,
  "nbformat_minor": 0,
  "metadata": {
    "colab": {
      "provenance": []
    },
    "kernelspec": {
      "name": "python3",
      "display_name": "Python 3"
    },
    "language_info": {
      "name": "python"
    }
  },
  "cells": [
    {
      "cell_type": "markdown",
      "source": [
        "## Prompting an LLM in code\n"
      ],
      "metadata": {
        "id": "hUMWeIMazNI2"
      }
    },
    {
      "cell_type": "markdown",
      "source": [
        "Set up programming environment to use code to send prompts to OpenAI's cloud-hosted service."
      ],
      "metadata": {
        "id": "090z9Vf2zS2k"
      }
    },
    {
      "cell_type": "code",
      "source": [
        "!pip install openai --quiet"
      ],
      "metadata": {
        "id": "bNY8q6WW1h54"
      },
      "execution_count": 1,
      "outputs": []
    },
    {
      "cell_type": "code",
      "source": [
        "%env OPENAI_API_KEY=your-api-key"
      ],
      "metadata": {
        "id": "zhbQD6Ed8Z4Z"
      },
      "execution_count": null,
      "outputs": []
    },
    {
      "cell_type": "code",
      "source": [
        "import openai\n",
        "import os\n",
        "\n",
        "openai.api_key = os.getenv(\"OPENAI_API_KEY\")\n",
        "\n",
        "def llm_response(prompt):\n",
        "    response = openai.ChatCompletion.create(\n",
        "        model='gpt-3.5-turbo',\n",
        "        messages=[{'role':'user','content':prompt}],\n",
        "        temperature=0\n",
        "    )\n",
        "    return response.choices[0].message['content']"
      ],
      "metadata": {
        "id": "xOm7DUWY9fS2"
      },
      "execution_count": 8,
      "outputs": []
    },
    {
      "cell_type": "markdown",
      "source": [
        "Define a prompt that will classify the sentiment of a restaurant review."
      ],
      "metadata": {
        "id": "6y557fLcz1N0"
      }
    },
    {
      "cell_type": "code",
      "source": [
        "prompt = '''\n",
        "    Classify the following review\n",
        "    as having either a positive or\n",
        "    negative sentiment:\n",
        "\n",
        "    The banana pudding was really tasty!\n",
        "'''\n",
        "\n",
        "response = llm_response(prompt)\n",
        "print(response)"
      ],
      "metadata": {
        "colab": {
          "base_uri": "https://localhost:8080/"
        },
        "id": "fxs1IEOZz6xd",
        "outputId": "7e6b8ac5-8ecd-46f7-9004-1534af6c15e8"
      },
      "execution_count": 9,
      "outputs": [
        {
          "output_type": "stream",
          "name": "stdout",
          "text": [
            "Positive sentiment\n"
          ]
        }
      ]
    },
    {
      "cell_type": "code",
      "source": [
        "prompt = '''\n",
        "    Classify the following review\n",
        "    as having either a positive or\n",
        "    negative sentiment:\n",
        "\n",
        "    The banana cake was delicious!\n",
        "'''\n",
        "\n",
        "response = llm_response(prompt)\n",
        "print(response)"
      ],
      "metadata": {
        "id": "mfaxSY2y1Q8a",
        "colab": {
          "base_uri": "https://localhost:8080/"
        },
        "outputId": "0e41bccb-1bc0-480b-a3a5-7dae86252411"
      },
      "execution_count": 10,
      "outputs": [
        {
          "output_type": "stream",
          "name": "stdout",
          "text": [
            "Positive sentiment\n"
          ]
        }
      ]
    },
    {
      "cell_type": "code",
      "source": [
        "prompt = '''\n",
        "    Classify the following review\n",
        "    as having either a positive or\n",
        "    negative sentiment:\n",
        "\n",
        "    The wait time was so long!!\n",
        "'''\n",
        "\n",
        "response = llm_response(prompt)\n",
        "print(response)"
      ],
      "metadata": {
        "id": "sh0E945B1Uts",
        "colab": {
          "base_uri": "https://localhost:8080/"
        },
        "outputId": "bb5936e9-150c-4889-9c4e-c620d3b331ef"
      },
      "execution_count": 11,
      "outputs": [
        {
          "output_type": "stream",
          "name": "stdout",
          "text": [
            "Negative sentiment\n"
          ]
        }
      ]
    }
  ]
}