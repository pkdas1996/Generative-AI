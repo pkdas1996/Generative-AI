{
  "nbformat": 4,
  "nbformat_minor": 0,
  "metadata": {
    "colab": {
      "provenance": []
    },
    "kernelspec": {
      "name": "python3",
      "display_name": "Python 3"
    },
    "language_info": {
      "name": "python"
    }
  },
  "cells": [
    {
      "cell_type": "markdown",
      "source": [
        "## Reputation monitoring system\n"
      ],
      "metadata": {
        "id": "hUMWeIMazNI2"
      }
    },
    {
      "cell_type": "markdown",
      "source": [
        "Set up programming environment to use code to send prompts to OpenAI's cloud-hosted service."
      ],
      "metadata": {
        "id": "090z9Vf2zS2k"
      }
    },
    {
      "cell_type": "code",
      "source": [
        "!pip install openai --quiet"
      ],
      "metadata": {
        "id": "bNY8q6WW1h54"
      },
      "execution_count": 1,
      "outputs": []
    },
    {
      "cell_type": "code",
      "source": [
        "%env OPENAI_API_KEY=your_api_key"
      ],
      "metadata": {
        "id": "zhbQD6Ed8Z4Z"
      },
      "execution_count": null,
      "outputs": []
    },
    {
      "cell_type": "code",
      "source": [
        "import openai\n",
        "import os\n",
        "\n",
        "openai.api_key = os.getenv(\"OPENAI_API_KEY\")\n",
        "\n",
        "def llm_response(prompt):\n",
        "    response = openai.ChatCompletion.create(\n",
        "    model='gpt-3.5-turbo',\n",
        "    messages=[{'role':'user','content':prompt}],\n",
        "    temperature=0,\n",
        "    )\n",
        "    return response.choices[0].message.content.strip('\\\"')\n",
        ""
      ],
      "metadata": {
        "id": "xOm7DUWY9fS2"
      },
      "execution_count": 24,
      "outputs": []
    },
    {
      "cell_type": "markdown",
      "source": [
        "Create a list of reviews."
      ],
      "metadata": {
        "id": "6y557fLcz1N0"
      }
    },
    {
      "cell_type": "code",
      "source": [
        "all_reviews = [\n",
        "    'The mochi is excellent!',\n",
        "    'Best soup dumplings I have ever eaten.',\n",
        "    'Not worth the 3 month wait for a reservation.'\n",
        "]\n",
        "\n",
        "all_reviews"
      ],
      "metadata": {
        "colab": {
          "base_uri": "https://localhost:8080/"
        },
        "id": "fxs1IEOZz6xd",
        "outputId": "20fea049-7ab7-481f-9488-bf8ed46190bb"
      },
      "execution_count": 27,
      "outputs": [
        {
          "output_type": "execute_result",
          "data": {
            "text/plain": [
              "['The mochi is excellent!',\n",
              " 'Best soup dumplings I have ever eaten.',\n",
              " 'Not worth the 3 month wait for a reservation.']"
            ]
          },
          "metadata": {},
          "execution_count": 27
        }
      ]
    },
    {
      "cell_type": "markdown",
      "source": [
        "Classify the reviews as positive or negative"
      ],
      "metadata": {
        "id": "y8CfC5_rAlde"
      }
    },
    {
      "cell_type": "code",
      "source": [
        "all_sentiments = []\n",
        "\n",
        "for review in all_reviews:\n",
        "    prompt = f'''\n",
        "        Classify the following review\n",
        "        as having either a positive or\n",
        "        negative sentiment. State your answer\n",
        "        as a single word, either \"positive\" or\n",
        "        \"negative\":\n",
        "\n",
        "        {review}\n",
        "        '''\n",
        "    response = llm_response(prompt)\n",
        "    all_sentiments.append(response)\n",
        "\n",
        "all_sentiments"
      ],
      "metadata": {
        "id": "mfaxSY2y1Q8a",
        "colab": {
          "base_uri": "https://localhost:8080/"
        },
        "outputId": "1977d075-3996-4def-e7c6-5cdf91d3ef97"
      },
      "execution_count": 28,
      "outputs": [
        {
          "output_type": "execute_result",
          "data": {
            "text/plain": [
              "['positive', 'positive', 'negative']"
            ]
          },
          "metadata": {},
          "execution_count": 28
        }
      ]
    },
    {
      "cell_type": "markdown",
      "source": [
        "Count the number of positive and negative reviews"
      ],
      "metadata": {
        "id": "-X1blfa2A3Uq"
      }
    },
    {
      "cell_type": "code",
      "source": [
        "num_positive = 0\n",
        "num_negative = 0\n",
        "for sentiment in all_sentiments:\n",
        "    if sentiment == 'positive':\n",
        "        num_positive += 1\n",
        "    elif sentiment == 'negative':\n",
        "        num_negative += 1\n",
        "print(f\"There are {num_positive} positive and {num_negative} negative reviews.\")"
      ],
      "metadata": {
        "id": "sh0E945B1Uts",
        "colab": {
          "base_uri": "https://localhost:8080/"
        },
        "outputId": "74c62547-298c-4956-c6b6-88fa225e3d91"
      },
      "execution_count": 29,
      "outputs": [
        {
          "output_type": "stream",
          "name": "stdout",
          "text": [
            "There are 2 positive and 1 negative reviews.\n"
          ]
        }
      ]
    }
  ]
}